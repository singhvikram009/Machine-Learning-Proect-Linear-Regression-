{
 "cells": [
  {
   "cell_type": "markdown",
   "id": "32afa54e",
   "metadata": {},
   "source": [
    "# Machine Learning Project -  1(Linear Regression)"
   ]
  },
  {
   "cell_type": "markdown",
   "id": "0ffa0fd7",
   "metadata": {},
   "source": [
    "## Problem Statement : \n",
    "\n",
    "One of the largest retail chains in the world wants to use their vast data source to build an efficient forecasting model to predict the sales for each SKU in its portfolio at its 76 different stores using historical sales data for the past 3 years on a week-on-week basis. Sales and promotional information is also available for each week - product and store wise. \n",
    "\n",
    "However, no other information regarding stores and products are available. So we need to forecast accurately the sales values for every such product/SKU-store combination for the next 12 weeks accurately."
   ]
  },
  {
   "cell_type": "code",
   "execution_count": 44,
   "id": "b092d634",
   "metadata": {},
   "outputs": [],
   "source": [
    "# Importing Libraries:\n",
    "import numpy as np\n",
    "import pandas as pd\n",
    "import seaborn as sns\n",
    "import matplotlib as plt\n",
    "%matplotlib inline\n",
    "\n",
    "from sklearn.model_selection import train_test_split\n",
    "\n",
    "from sklearn.linear_model import LinearRegression\n",
    "\n",
    "from sklearn.tree import DecisionTreeRegressor\n",
    "\n",
    "from sklearn.ensemble import RandomForestRegressor\n",
    "\n",
    "from sklearn.metrics import mean_squared_log_error\n",
    "\n",
    "import warnings\n",
    "warnings.filterwarnings(\"ignore\")"
   ]
  },
  {
   "cell_type": "code",
   "execution_count": 45,
   "id": "15ce1e79",
   "metadata": {},
   "outputs": [],
   "source": [
    "# importing tarin and test files\n",
    "\n",
    "train_df = pd.read_csv(\"train_LR.csv\")\n",
    "test_df = pd.read_csv(\"test_LR.csv\")"
   ]
  },
  {
   "cell_type": "code",
   "execution_count": 46,
   "id": "1d406346",
   "metadata": {},
   "outputs": [
    {
     "data": {
      "text/plain": [
       "((150150, 9), (13860, 8))"
      ]
     },
     "execution_count": 46,
     "metadata": {},
     "output_type": "execute_result"
    }
   ],
   "source": [
    "train_df.shape , test_df.shape"
   ]
  },
  {
   "cell_type": "code",
   "execution_count": 47,
   "id": "26610085",
   "metadata": {},
   "outputs": [
    {
     "data": {
      "text/html": [
       "<div>\n",
       "<style scoped>\n",
       "    .dataframe tbody tr th:only-of-type {\n",
       "        vertical-align: middle;\n",
       "    }\n",
       "\n",
       "    .dataframe tbody tr th {\n",
       "        vertical-align: top;\n",
       "    }\n",
       "\n",
       "    .dataframe thead th {\n",
       "        text-align: right;\n",
       "    }\n",
       "</style>\n",
       "<table border=\"1\" class=\"dataframe\">\n",
       "  <thead>\n",
       "    <tr style=\"text-align: right;\">\n",
       "      <th></th>\n",
       "      <th>record_ID</th>\n",
       "      <th>week</th>\n",
       "      <th>store_id</th>\n",
       "      <th>sku_id</th>\n",
       "      <th>total_price</th>\n",
       "      <th>base_price</th>\n",
       "      <th>is_featured_sku</th>\n",
       "      <th>is_display_sku</th>\n",
       "      <th>units_sold</th>\n",
       "    </tr>\n",
       "  </thead>\n",
       "  <tbody>\n",
       "    <tr>\n",
       "      <th>0</th>\n",
       "      <td>1</td>\n",
       "      <td>17/01/11</td>\n",
       "      <td>8091</td>\n",
       "      <td>216418</td>\n",
       "      <td>99.0375</td>\n",
       "      <td>111.8625</td>\n",
       "      <td>0</td>\n",
       "      <td>0</td>\n",
       "      <td>20</td>\n",
       "    </tr>\n",
       "    <tr>\n",
       "      <th>1</th>\n",
       "      <td>2</td>\n",
       "      <td>17/01/11</td>\n",
       "      <td>8091</td>\n",
       "      <td>216419</td>\n",
       "      <td>99.0375</td>\n",
       "      <td>99.0375</td>\n",
       "      <td>0</td>\n",
       "      <td>0</td>\n",
       "      <td>28</td>\n",
       "    </tr>\n",
       "    <tr>\n",
       "      <th>2</th>\n",
       "      <td>3</td>\n",
       "      <td>17/01/11</td>\n",
       "      <td>8091</td>\n",
       "      <td>216425</td>\n",
       "      <td>133.9500</td>\n",
       "      <td>133.9500</td>\n",
       "      <td>0</td>\n",
       "      <td>0</td>\n",
       "      <td>19</td>\n",
       "    </tr>\n",
       "    <tr>\n",
       "      <th>3</th>\n",
       "      <td>4</td>\n",
       "      <td>17/01/11</td>\n",
       "      <td>8091</td>\n",
       "      <td>216233</td>\n",
       "      <td>133.9500</td>\n",
       "      <td>133.9500</td>\n",
       "      <td>0</td>\n",
       "      <td>0</td>\n",
       "      <td>44</td>\n",
       "    </tr>\n",
       "    <tr>\n",
       "      <th>4</th>\n",
       "      <td>5</td>\n",
       "      <td>17/01/11</td>\n",
       "      <td>8091</td>\n",
       "      <td>217390</td>\n",
       "      <td>141.0750</td>\n",
       "      <td>141.0750</td>\n",
       "      <td>0</td>\n",
       "      <td>0</td>\n",
       "      <td>52</td>\n",
       "    </tr>\n",
       "  </tbody>\n",
       "</table>\n",
       "</div>"
      ],
      "text/plain": [
       "   record_ID      week  store_id  sku_id  total_price  base_price  \\\n",
       "0          1  17/01/11      8091  216418      99.0375    111.8625   \n",
       "1          2  17/01/11      8091  216419      99.0375     99.0375   \n",
       "2          3  17/01/11      8091  216425     133.9500    133.9500   \n",
       "3          4  17/01/11      8091  216233     133.9500    133.9500   \n",
       "4          5  17/01/11      8091  217390     141.0750    141.0750   \n",
       "\n",
       "   is_featured_sku  is_display_sku  units_sold  \n",
       "0                0               0          20  \n",
       "1                0               0          28  \n",
       "2                0               0          19  \n",
       "3                0               0          44  \n",
       "4                0               0          52  "
      ]
     },
     "execution_count": 47,
     "metadata": {},
     "output_type": "execute_result"
    }
   ],
   "source": [
    "train_df.head()"
   ]
  },
  {
   "cell_type": "code",
   "execution_count": 48,
   "id": "5c30e34d",
   "metadata": {},
   "outputs": [
    {
     "data": {
      "text/html": [
       "<div>\n",
       "<style scoped>\n",
       "    .dataframe tbody tr th:only-of-type {\n",
       "        vertical-align: middle;\n",
       "    }\n",
       "\n",
       "    .dataframe tbody tr th {\n",
       "        vertical-align: top;\n",
       "    }\n",
       "\n",
       "    .dataframe thead th {\n",
       "        text-align: right;\n",
       "    }\n",
       "</style>\n",
       "<table border=\"1\" class=\"dataframe\">\n",
       "  <thead>\n",
       "    <tr style=\"text-align: right;\">\n",
       "      <th></th>\n",
       "      <th>record_ID</th>\n",
       "      <th>week</th>\n",
       "      <th>store_id</th>\n",
       "      <th>sku_id</th>\n",
       "      <th>total_price</th>\n",
       "      <th>base_price</th>\n",
       "      <th>is_featured_sku</th>\n",
       "      <th>is_display_sku</th>\n",
       "    </tr>\n",
       "  </thead>\n",
       "  <tbody>\n",
       "    <tr>\n",
       "      <th>0</th>\n",
       "      <td>212645</td>\n",
       "      <td>16/07/13</td>\n",
       "      <td>8091</td>\n",
       "      <td>216418</td>\n",
       "      <td>108.3000</td>\n",
       "      <td>108.3000</td>\n",
       "      <td>0</td>\n",
       "      <td>0</td>\n",
       "    </tr>\n",
       "    <tr>\n",
       "      <th>1</th>\n",
       "      <td>212646</td>\n",
       "      <td>16/07/13</td>\n",
       "      <td>8091</td>\n",
       "      <td>216419</td>\n",
       "      <td>109.0125</td>\n",
       "      <td>109.0125</td>\n",
       "      <td>0</td>\n",
       "      <td>0</td>\n",
       "    </tr>\n",
       "    <tr>\n",
       "      <th>2</th>\n",
       "      <td>212647</td>\n",
       "      <td>16/07/13</td>\n",
       "      <td>8091</td>\n",
       "      <td>216425</td>\n",
       "      <td>133.9500</td>\n",
       "      <td>133.9500</td>\n",
       "      <td>0</td>\n",
       "      <td>0</td>\n",
       "    </tr>\n",
       "    <tr>\n",
       "      <th>3</th>\n",
       "      <td>212648</td>\n",
       "      <td>16/07/13</td>\n",
       "      <td>8091</td>\n",
       "      <td>216233</td>\n",
       "      <td>133.9500</td>\n",
       "      <td>133.9500</td>\n",
       "      <td>0</td>\n",
       "      <td>0</td>\n",
       "    </tr>\n",
       "    <tr>\n",
       "      <th>4</th>\n",
       "      <td>212649</td>\n",
       "      <td>16/07/13</td>\n",
       "      <td>8091</td>\n",
       "      <td>217390</td>\n",
       "      <td>176.7000</td>\n",
       "      <td>176.7000</td>\n",
       "      <td>0</td>\n",
       "      <td>0</td>\n",
       "    </tr>\n",
       "  </tbody>\n",
       "</table>\n",
       "</div>"
      ],
      "text/plain": [
       "   record_ID      week  store_id  sku_id  total_price  base_price  \\\n",
       "0     212645  16/07/13      8091  216418     108.3000    108.3000   \n",
       "1     212646  16/07/13      8091  216419     109.0125    109.0125   \n",
       "2     212647  16/07/13      8091  216425     133.9500    133.9500   \n",
       "3     212648  16/07/13      8091  216233     133.9500    133.9500   \n",
       "4     212649  16/07/13      8091  217390     176.7000    176.7000   \n",
       "\n",
       "   is_featured_sku  is_display_sku  \n",
       "0                0               0  \n",
       "1                0               0  \n",
       "2                0               0  \n",
       "3                0               0  \n",
       "4                0               0  "
      ]
     },
     "execution_count": 48,
     "metadata": {},
     "output_type": "execute_result"
    }
   ],
   "source": [
    "test_df.head()"
   ]
  },
  {
   "cell_type": "code",
   "execution_count": 49,
   "id": "2febdd49",
   "metadata": {},
   "outputs": [
    {
     "data": {
      "text/plain": [
       "record_ID            int64\n",
       "week                object\n",
       "store_id             int64\n",
       "sku_id               int64\n",
       "total_price        float64\n",
       "base_price         float64\n",
       "is_featured_sku      int64\n",
       "is_display_sku       int64\n",
       "units_sold           int64\n",
       "dtype: object"
      ]
     },
     "execution_count": 49,
     "metadata": {},
     "output_type": "execute_result"
    }
   ],
   "source": [
    "train_df.dtypes"
   ]
  },
  {
   "cell_type": "code",
   "execution_count": 50,
   "id": "78e469b5",
   "metadata": {},
   "outputs": [
    {
     "data": {
      "text/plain": [
       "record_ID            int64\n",
       "week                object\n",
       "store_id             int64\n",
       "sku_id               int64\n",
       "total_price        float64\n",
       "base_price         float64\n",
       "is_featured_sku      int64\n",
       "is_display_sku       int64\n",
       "dtype: object"
      ]
     },
     "execution_count": 50,
     "metadata": {},
     "output_type": "execute_result"
    }
   ],
   "source": [
    "test_df.dtypes"
   ]
  },
  {
   "cell_type": "code",
   "execution_count": 51,
   "id": "1c9e043c",
   "metadata": {},
   "outputs": [
    {
     "data": {
      "text/plain": [
       "(76, 76)"
      ]
     },
     "execution_count": 51,
     "metadata": {},
     "output_type": "execute_result"
    }
   ],
   "source": [
    "train_df['store_id'].value_counts().count(), test_df['store_id'].value_counts().count()\n",
    "# store_id : Unique ID for each store (no numerical order to be assumed)"
   ]
  },
  {
   "cell_type": "code",
   "execution_count": 52,
   "id": "95811344",
   "metadata": {},
   "outputs": [
    {
     "data": {
      "text/plain": [
       "(28, 28)"
      ]
     },
     "execution_count": 52,
     "metadata": {},
     "output_type": "execute_result"
    }
   ],
   "source": [
    "train_df['sku_id'].value_counts().count() , test_df['sku_id'].value_counts().count()\n",
    "# sku id : Unique ID for each product (no numerical order to be assumed)"
   ]
  },
  {
   "cell_type": "code",
   "execution_count": 53,
   "id": "3b4a8c35",
   "metadata": {},
   "outputs": [
    {
     "data": {
      "text/plain": [
       "0    135794\n",
       "1     14356\n",
       "Name: is_featured_sku, dtype: int64"
      ]
     },
     "execution_count": 53,
     "metadata": {},
     "output_type": "execute_result"
    }
   ],
   "source": [
    "train_df['is_featured_sku'].value_counts()\n",
    "# is_featured_sku : Was part of the featured item of the week"
   ]
  },
  {
   "cell_type": "code",
   "execution_count": 54,
   "id": "d20cdbec",
   "metadata": {},
   "outputs": [
    {
     "data": {
      "text/plain": [
       "0    130150\n",
       "1     20000\n",
       "Name: is_display_sku, dtype: int64"
      ]
     },
     "execution_count": 54,
     "metadata": {},
     "output_type": "execute_result"
    }
   ],
   "source": [
    "train_df['is_display_sku'].value_counts()\n",
    "# is_display_sku : Product was on display at a prominent place at the store"
   ]
  },
  {
   "cell_type": "markdown",
   "id": "7bec5093",
   "metadata": {},
   "source": [
    "### Type - casting"
   ]
  },
  {
   "cell_type": "code",
   "execution_count": 55,
   "id": "bc2163fd",
   "metadata": {},
   "outputs": [],
   "source": [
    "# changing the data type of week variable from the object to date time\n",
    "\n",
    "train_df['week'] = pd.to_datetime(train_df['week'])\n",
    "test_df['week'] = pd.to_datetime(test_df['week'])"
   ]
  },
  {
   "cell_type": "code",
   "execution_count": 56,
   "id": "5209a2fd",
   "metadata": {},
   "outputs": [
    {
     "data": {
      "text/plain": [
       "(record_ID                   int64\n",
       " week               datetime64[ns]\n",
       " store_id                    int64\n",
       " sku_id                      int64\n",
       " total_price               float64\n",
       " base_price                float64\n",
       " is_featured_sku             int64\n",
       " is_display_sku              int64\n",
       " units_sold                  int64\n",
       " dtype: object,\n",
       " record_ID                   int64\n",
       " week               datetime64[ns]\n",
       " store_id                    int64\n",
       " sku_id                      int64\n",
       " total_price               float64\n",
       " base_price                float64\n",
       " is_featured_sku             int64\n",
       " is_display_sku              int64\n",
       " dtype: object)"
      ]
     },
     "execution_count": 56,
     "metadata": {},
     "output_type": "execute_result"
    }
   ],
   "source": [
    "train_df.dtypes , test_df.dtypes"
   ]
  },
  {
   "cell_type": "code",
   "execution_count": 57,
   "id": "86a190d2",
   "metadata": {},
   "outputs": [],
   "source": [
    "# now finding the month , day , year, dayof week, week of year using week:\n",
    "\n",
    "# for train data:\n",
    "\n",
    "train_df['month'] = [date.month for date in train_df.week] \n",
    "train_df['day'] = [date.day for date in train_df.week]\n",
    "train_df['year'] = [date.year for date in train_df.week]  \n",
    "train_df['week_of_year'] = [date.weekofyear for date in train_df.week] \n",
    "train_df['day_of_week'] = [date.dayofweek for date in train_df.week] \n",
    "\n",
    "# for test data :\n",
    "\n",
    "test_df['month'] = [date.month for date in test_df.week] \n",
    "test_df['day'] = [date.day for date in test_df.week]\n",
    "test_df['year'] = [date.year for date in test_df.week]  \n",
    "test_df['week_of_year'] = [date.weekofyear for date in test_df.week] \n",
    "test_df['day_of_week'] = [date.dayofweek for date in test_df.week] "
   ]
  },
  {
   "cell_type": "code",
   "execution_count": 58,
   "id": "3b7c06b6",
   "metadata": {},
   "outputs": [
    {
     "data": {
      "text/plain": [
       "(   record_ID       week  store_id  sku_id  total_price  base_price  \\\n",
       " 0          1 2011-01-17      8091  216418      99.0375    111.8625   \n",
       " 1          2 2011-01-17      8091  216419      99.0375     99.0375   \n",
       " 2          3 2011-01-17      8091  216425     133.9500    133.9500   \n",
       " 3          4 2011-01-17      8091  216233     133.9500    133.9500   \n",
       " 4          5 2011-01-17      8091  217390     141.0750    141.0750   \n",
       " \n",
       "    is_featured_sku  is_display_sku  units_sold  month  day  year  \\\n",
       " 0                0               0          20      1   17  2011   \n",
       " 1                0               0          28      1   17  2011   \n",
       " 2                0               0          19      1   17  2011   \n",
       " 3                0               0          44      1   17  2011   \n",
       " 4                0               0          52      1   17  2011   \n",
       " \n",
       "    week_of_year  day_of_week  \n",
       " 0             3            0  \n",
       " 1             3            0  \n",
       " 2             3            0  \n",
       " 3             3            0  \n",
       " 4             3            0  ,\n",
       "    record_ID       week  store_id  sku_id  total_price  base_price  \\\n",
       " 0     212645 2013-07-16      8091  216418     108.3000    108.3000   \n",
       " 1     212646 2013-07-16      8091  216419     109.0125    109.0125   \n",
       " 2     212647 2013-07-16      8091  216425     133.9500    133.9500   \n",
       " 3     212648 2013-07-16      8091  216233     133.9500    133.9500   \n",
       " 4     212649 2013-07-16      8091  217390     176.7000    176.7000   \n",
       " \n",
       "    is_featured_sku  is_display_sku  month  day  year  week_of_year  \\\n",
       " 0                0               0      7   16  2013            29   \n",
       " 1                0               0      7   16  2013            29   \n",
       " 2                0               0      7   16  2013            29   \n",
       " 3                0               0      7   16  2013            29   \n",
       " 4                0               0      7   16  2013            29   \n",
       " \n",
       "    day_of_week  \n",
       " 0            1  \n",
       " 1            1  \n",
       " 2            1  \n",
       " 3            1  \n",
       " 4            1  )"
      ]
     },
     "execution_count": 58,
     "metadata": {},
     "output_type": "execute_result"
    }
   ],
   "source": [
    "train_df.head() , test_df.head()"
   ]
  },
  {
   "cell_type": "code",
   "execution_count": 59,
   "id": "549f7f80",
   "metadata": {},
   "outputs": [],
   "source": [
    "# dropping the record_id and week columns\n",
    "\n",
    "train_df = train_df.drop(columns = ['week' , 'record_ID'], axis = 1)\n",
    "test_df = test_df.drop(columns = ['week' , 'record_ID'], axis = 1)"
   ]
  },
  {
   "cell_type": "markdown",
   "id": "7926163d",
   "metadata": {},
   "source": [
    "### Treating the missing value : "
   ]
  },
  {
   "cell_type": "code",
   "execution_count": 60,
   "id": "29c66b32",
   "metadata": {},
   "outputs": [
    {
     "data": {
      "text/plain": [
       "(store_id           0\n",
       " sku_id             0\n",
       " total_price        1\n",
       " base_price         0\n",
       " is_featured_sku    0\n",
       " is_display_sku     0\n",
       " units_sold         0\n",
       " month              0\n",
       " day                0\n",
       " year               0\n",
       " week_of_year       0\n",
       " day_of_week        0\n",
       " dtype: int64,\n",
       " store_id           0\n",
       " sku_id             0\n",
       " total_price        0\n",
       " base_price         0\n",
       " is_featured_sku    0\n",
       " is_display_sku     0\n",
       " month              0\n",
       " day                0\n",
       " year               0\n",
       " week_of_year       0\n",
       " day_of_week        0\n",
       " dtype: int64)"
      ]
     },
     "execution_count": 60,
     "metadata": {},
     "output_type": "execute_result"
    }
   ],
   "source": [
    "# now checking for the missing values in both the data set :\n",
    "\n",
    "train_df.isnull().sum() , test_df.isnull().sum()"
   ]
  },
  {
   "cell_type": "code",
   "execution_count": 61,
   "id": "bf994428",
   "metadata": {},
   "outputs": [],
   "source": [
    "# there is only one missing value in the total_price in train data set only :\n",
    "train_df['total_price'] = train_df['total_price'].fillna(train_df['total_price'].median())"
   ]
  },
  {
   "cell_type": "code",
   "execution_count": 62,
   "id": "6ba5bc6c",
   "metadata": {},
   "outputs": [
    {
     "data": {
      "text/plain": [
       "store_id           0\n",
       "sku_id             0\n",
       "total_price        0\n",
       "base_price         0\n",
       "is_featured_sku    0\n",
       "is_display_sku     0\n",
       "units_sold         0\n",
       "month              0\n",
       "day                0\n",
       "year               0\n",
       "week_of_year       0\n",
       "day_of_week        0\n",
       "dtype: int64"
      ]
     },
     "execution_count": 62,
     "metadata": {},
     "output_type": "execute_result"
    }
   ],
   "source": [
    "train_df.isnull().sum()"
   ]
  },
  {
   "cell_type": "code",
   "execution_count": 63,
   "id": "44c4c295",
   "metadata": {},
   "outputs": [
    {
     "data": {
      "text/plain": [
       "store_id             int64\n",
       "sku_id               int64\n",
       "total_price        float64\n",
       "base_price         float64\n",
       "is_featured_sku      int64\n",
       "is_display_sku       int64\n",
       "units_sold           int64\n",
       "month                int64\n",
       "day                  int64\n",
       "year                 int64\n",
       "week_of_year         int64\n",
       "day_of_week          int64\n",
       "dtype: object"
      ]
     },
     "execution_count": 63,
     "metadata": {},
     "output_type": "execute_result"
    }
   ],
   "source": [
    "numerical = train_df.select_dtypes(include = ['int64', 'float64'])\n",
    "numerical.dtypes"
   ]
  },
  {
   "cell_type": "code",
   "execution_count": 64,
   "id": "f17288cf",
   "metadata": {},
   "outputs": [
    {
     "name": "stdout",
     "output_type": "stream",
     "text": [
      "range of store_id:[8023, 9984]\n",
      "range of sku_id:[216233, 679023]\n",
      "range of total_price:[41.325, 562.1625]\n",
      "range of base_price:[61.275, 562.1625]\n",
      "range of is_featured_sku:[0, 1]\n",
      "range of is_display_sku:[0, 1]\n",
      "range of units_sold:[1, 2876]\n",
      "range of month:[1, 12]\n",
      "range of day:[1, 31]\n",
      "range of year:[2011, 2013]\n",
      "range of week_of_year:[1, 52]\n",
      "range of day_of_week:[0, 6]\n"
     ]
    }
   ],
   "source": [
    "for i in numerical.columns:\n",
    "    print(f'range of {i}:[{train_df[i].min()}, {train_df[i].max()}]')"
   ]
  },
  {
   "cell_type": "code",
   "execution_count": null,
   "id": "7dc0f38d",
   "metadata": {},
   "outputs": [],
   "source": []
  },
  {
   "cell_type": "code",
   "execution_count": 65,
   "id": "0cffeb9c",
   "metadata": {},
   "outputs": [
    {
     "data": {
      "text/plain": [
       "<AxesSubplot:xlabel='total_price', ylabel='Density'>"
      ]
     },
     "execution_count": 65,
     "metadata": {},
     "output_type": "execute_result"
    },
    {
     "data": {
      "image/png": "[encoded data removed]",
      "text/plain": [
       "<Figure size 432x288 with 1 Axes>"
      ]
     },
     "metadata": {
      "needs_background": "light"
     },
     "output_type": "display_data"
    }
   ],
   "source": [
    "sns.distplot(train_df['total_price'])"
   ]
  },
  {
   "cell_type": "code",
   "execution_count": 66,
   "id": "0707535a",
   "metadata": {},
   "outputs": [
    {
     "data": {
      "text/plain": [
       "<AxesSubplot:xlabel='base_price', ylabel='Density'>"
      ]
     },
     "execution_count": 66,
     "metadata": {},
     "output_type": "execute_result"
    },
    {
     "data": {
      "image/png": "[encoded data removed]",
      "text/plain": [
       "<Figure size 432x288 with 1 Axes>"
      ]
     },
     "metadata": {
      "needs_background": "light"
     },
     "output_type": "display_data"
    }
   ],
   "source": [
    "sns.distplot(train_df['base_price'])"
   ]
  },
  {
   "cell_type": "code",
   "execution_count": 67,
   "id": "52e9e9d2",
   "metadata": {},
   "outputs": [],
   "source": [
    "#sns.distplot(train_df['units_sold'])"
   ]
  },
  {
   "cell_type": "markdown",
   "id": "4d09e9c4",
   "metadata": {},
   "source": [
    "#### From above we get that all three (total_price , base_price and units_sold) are highly right skewed \n",
    "#### So , in order to remove skewnees we will do log transformation of all"
   ]
  },
  {
   "cell_type": "code",
   "execution_count": 68,
   "id": "27f65943",
   "metadata": {},
   "outputs": [],
   "source": [
    "train_df['total_price'] = np.log(train_df['total_price'].values + 1)\n",
    "test_df['total_price'] = np.log(test_df['total_price'].values + 1)\n",
    "\n",
    "train_df['base_price'] = np.log(train_df['base_price'].values + 1)\n",
    "test_df['base_price'] = np.log(test_df['base_price'].values + 1)"
   ]
  },
  {
   "cell_type": "markdown",
   "id": "0e585020",
   "metadata": {},
   "source": [
    "## Implementing the model : "
   ]
  },
  {
   "cell_type": "code",
   "execution_count": 69,
   "id": "7ebdb739",
   "metadata": {},
   "outputs": [
    {
     "data": {
      "text/plain": [
       "((150150, 11), (150150,))"
      ]
     },
     "execution_count": 69,
     "metadata": {},
     "output_type": "execute_result"
    }
   ],
   "source": [
    "'''Segregating the dependent and independent variable for model training'''\n",
    "\n",
    "x = train_df.drop('units_sold' , axis = 1)\n",
    "y = train_df['units_sold']\n",
    "\n",
    "x.shape , y.shape"
   ]
  },
  {
   "cell_type": "code",
   "execution_count": 70,
   "id": "62e53d89",
   "metadata": {},
   "outputs": [],
   "source": [
    "trainx , testx, trainy , testy = train_test_split(x, y, test_size = 0.25,  random_state = 42)"
   ]
  },
  {
   "cell_type": "code",
   "execution_count": 71,
   "id": "55077fc6",
   "metadata": {},
   "outputs": [
    {
     "data": {
      "text/plain": [
       "((112612, 11), (37538, 11), (112612,), (37538,))"
      ]
     },
     "execution_count": 71,
     "metadata": {},
     "output_type": "execute_result"
    }
   ],
   "source": [
    "trainx.shape , testx.shape , trainy.shape , testy.shape"
   ]
  },
  {
   "cell_type": "markdown",
   "id": "85029d7d",
   "metadata": {},
   "source": [
    "### Linear regression"
   ]
  },
  {
   "cell_type": "code",
   "execution_count": 72,
   "id": "a205389c",
   "metadata": {},
   "outputs": [
    {
     "data": {
      "text/plain": [
       "LinearRegression()"
      ]
     },
     "execution_count": 72,
     "metadata": {},
     "output_type": "execute_result"
    }
   ],
   "source": [
    "lr = LinearRegression() #creating instance for LinearRegression\n",
    "lr.fit(trainx , trainy)"
   ]
  },
  {
   "cell_type": "code",
   "execution_count": 73,
   "id": "d43d912a",
   "metadata": {},
   "outputs": [],
   "source": [
    "pred_y = lr.predict(testx)"
   ]
  },
  {
   "cell_type": "code",
   "execution_count": 74,
   "id": "6dacda2a",
   "metadata": {},
   "outputs": [
    {
     "ename": "ValueError",
     "evalue": "Mean Squared Logarithmic Error cannot be used when targets contain negative values.",
     "output_type": "error",
     "traceback": [
      "\u001b[1;31m---------------------------------------------------------------------------\u001b[0m",
      "\u001b[1;31mValueError\u001b[0m                                Traceback (most recent call last)",
      "\u001b[1;32m<ipython-input-74-4abce5b37f8c>\u001b[0m in \u001b[0;36m<module>\u001b[1;34m\u001b[0m\n\u001b[1;32m----> 1\u001b[1;33m \u001b[0mprint\u001b[0m\u001b[1;33m(\u001b[0m\u001b[0mnp\u001b[0m\u001b[1;33m.\u001b[0m\u001b[0msqrt\u001b[0m\u001b[1;33m(\u001b[0m\u001b[0mmean_squared_log_error\u001b[0m\u001b[1;33m(\u001b[0m\u001b[0mtesty\u001b[0m\u001b[1;33m,\u001b[0m \u001b[0mpred_y\u001b[0m\u001b[1;33m)\u001b[0m\u001b[1;33m)\u001b[0m\u001b[1;33m)\u001b[0m\u001b[1;33m\u001b[0m\u001b[1;33m\u001b[0m\u001b[0m\n\u001b[0m",
      "\u001b[1;32mD:\\Anaconda\\lib\\site-packages\\sklearn\\utils\\validation.py\u001b[0m in \u001b[0;36minner_f\u001b[1;34m(*args, **kwargs)\u001b[0m\n\u001b[0;32m     61\u001b[0m             \u001b[0mextra_args\u001b[0m \u001b[1;33m=\u001b[0m \u001b[0mlen\u001b[0m\u001b[1;33m(\u001b[0m\u001b[0margs\u001b[0m\u001b[1;33m)\u001b[0m \u001b[1;33m-\u001b[0m \u001b[0mlen\u001b[0m\u001b[1;33m(\u001b[0m\u001b[0mall_args\u001b[0m\u001b[1;33m)\u001b[0m\u001b[1;33m\u001b[0m\u001b[1;33m\u001b[0m\u001b[0m\n\u001b[0;32m     62\u001b[0m             \u001b[1;32mif\u001b[0m \u001b[0mextra_args\u001b[0m \u001b[1;33m<=\u001b[0m \u001b[1;36m0\u001b[0m\u001b[1;33m:\u001b[0m\u001b[1;33m\u001b[0m\u001b[1;33m\u001b[0m\u001b[0m\n\u001b[1;32m---> 63\u001b[1;33m                 \u001b[1;32mreturn\u001b[0m \u001b[0mf\u001b[0m\u001b[1;33m(\u001b[0m\u001b[1;33m*\u001b[0m\u001b[0margs\u001b[0m\u001b[1;33m,\u001b[0m \u001b[1;33m**\u001b[0m\u001b[0mkwargs\u001b[0m\u001b[1;33m)\u001b[0m\u001b[1;33m\u001b[0m\u001b[1;33m\u001b[0m\u001b[0m\n\u001b[0m\u001b[0;32m     64\u001b[0m \u001b[1;33m\u001b[0m\u001b[0m\n\u001b[0;32m     65\u001b[0m             \u001b[1;31m# extra_args > 0\u001b[0m\u001b[1;33m\u001b[0m\u001b[1;33m\u001b[0m\u001b[1;33m\u001b[0m\u001b[0m\n",
      "\u001b[1;32mD:\\Anaconda\\lib\\site-packages\\sklearn\\metrics\\_regression.py\u001b[0m in \u001b[0;36mmean_squared_log_error\u001b[1;34m(y_true, y_pred, sample_weight, multioutput)\u001b[0m\n\u001b[0;32m    411\u001b[0m \u001b[1;33m\u001b[0m\u001b[0m\n\u001b[0;32m    412\u001b[0m     \u001b[1;32mif\u001b[0m \u001b[1;33m(\u001b[0m\u001b[0my_true\u001b[0m \u001b[1;33m<\u001b[0m \u001b[1;36m0\u001b[0m\u001b[1;33m)\u001b[0m\u001b[1;33m.\u001b[0m\u001b[0many\u001b[0m\u001b[1;33m(\u001b[0m\u001b[1;33m)\u001b[0m \u001b[1;32mor\u001b[0m \u001b[1;33m(\u001b[0m\u001b[0my_pred\u001b[0m \u001b[1;33m<\u001b[0m \u001b[1;36m0\u001b[0m\u001b[1;33m)\u001b[0m\u001b[1;33m.\u001b[0m\u001b[0many\u001b[0m\u001b[1;33m(\u001b[0m\u001b[1;33m)\u001b[0m\u001b[1;33m:\u001b[0m\u001b[1;33m\u001b[0m\u001b[1;33m\u001b[0m\u001b[0m\n\u001b[1;32m--> 413\u001b[1;33m         raise ValueError(\"Mean Squared Logarithmic Error cannot be used when \"\n\u001b[0m\u001b[0;32m    414\u001b[0m                          \"targets contain negative values.\")\n\u001b[0;32m    415\u001b[0m \u001b[1;33m\u001b[0m\u001b[0m\n",
      "\u001b[1;31mValueError\u001b[0m: Mean Squared Logarithmic Error cannot be used when targets contain negative values."
     ]
    }
   ],
   "source": [
    "print(np.sqrt(mean_squared_log_error(testy, pred_y)))"
   ]
  },
  {
   "cell_type": "markdown",
   "id": "b207c3fa",
   "metadata": {},
   "source": [
    "### Decision Tree"
   ]
  },
  {
   "cell_type": "code",
   "execution_count": 36,
   "id": "3b1e964c",
   "metadata": {},
   "outputs": [
    {
     "data": {
      "text/plain": [
       "DecisionTreeRegressor()"
      ]
     },
     "execution_count": 36,
     "metadata": {},
     "output_type": "execute_result"
    }
   ],
   "source": [
    "tree = DecisionTreeRegressor()\n",
    "tree.fit(trainx , trainy) "
   ]
  },
  {
   "cell_type": "code",
   "execution_count": 37,
   "id": "bd514bdc",
   "metadata": {},
   "outputs": [],
   "source": [
    "pred_tree = tree.predict(testx) "
   ]
  },
  {
   "cell_type": "code",
   "execution_count": 38,
   "id": "de842944",
   "metadata": {},
   "outputs": [
    {
     "name": "stdout",
     "output_type": "stream",
     "text": [
      "0.5583601276793381\n"
     ]
    }
   ],
   "source": [
    "print(np.sqrt(mean_squared_log_error(testy, pred_tree)))"
   ]
  },
  {
   "cell_type": "markdown",
   "id": "70fade8b",
   "metadata": {},
   "source": [
    "### Random Forest "
   ]
  },
  {
   "cell_type": "code",
   "execution_count": 39,
   "id": "21b33e8e",
   "metadata": {},
   "outputs": [
    {
     "data": {
      "text/plain": [
       "RandomForestRegressor()"
      ]
     },
     "execution_count": 39,
     "metadata": {},
     "output_type": "execute_result"
    }
   ],
   "source": [
    "forest = RandomForestRegressor()\n",
    "forest.fit(trainx , trainy) "
   ]
  },
  {
   "cell_type": "code",
   "execution_count": 40,
   "id": "11506a2d",
   "metadata": {},
   "outputs": [],
   "source": [
    "pred_forest = forest.predict(testx)"
   ]
  },
  {
   "cell_type": "code",
   "execution_count": 41,
   "id": "4d7a4dbb",
   "metadata": {},
   "outputs": [
    {
     "name": "stdout",
     "output_type": "stream",
     "text": [
      "0.4183648556866954\n"
     ]
    }
   ],
   "source": [
    "print(np.sqrt(mean_squared_log_error(testy, pred_forest)))"
   ]
  },
  {
   "cell_type": "code",
   "execution_count": 76,
   "id": "4f52c371",
   "metadata": {},
   "outputs": [
    {
     "data": {
      "text/plain": [
       "array([18.62, 24.49, 39.58, ..., 43.71, 14.17, 11.66])"
      ]
     },
     "execution_count": 76,
     "metadata": {},
     "output_type": "execute_result"
    }
   ],
   "source": [
    "# now to check the predicted sales value we will use test_df data\n",
    "prediction = forest.predict(test_df)\n",
    "prediction"
   ]
  },
  {
   "cell_type": "code",
   "execution_count": 78,
   "id": "82d4a612",
   "metadata": {},
   "outputs": [],
   "source": [
    "#creating a new variable for the predicted sales value\n",
    "test_df['Predicted_sales_value'] = prediction "
   ]
  },
  {
   "cell_type": "code",
   "execution_count": 79,
   "id": "b2047458",
   "metadata": {},
   "outputs": [
    {
     "data": {
      "text/html": [
       "<div>\n",
       "<style scoped>\n",
       "    .dataframe tbody tr th:only-of-type {\n",
       "        vertical-align: middle;\n",
       "    }\n",
       "\n",
       "    .dataframe tbody tr th {\n",
       "        vertical-align: top;\n",
       "    }\n",
       "\n",
       "    .dataframe thead th {\n",
       "        text-align: right;\n",
       "    }\n",
       "</style>\n",
       "<table border=\"1\" class=\"dataframe\">\n",
       "  <thead>\n",
       "    <tr style=\"text-align: right;\">\n",
       "      <th></th>\n",
       "      <th>store_id</th>\n",
       "      <th>sku_id</th>\n",
       "      <th>total_price</th>\n",
       "      <th>base_price</th>\n",
       "      <th>is_featured_sku</th>\n",
       "      <th>is_display_sku</th>\n",
       "      <th>month</th>\n",
       "      <th>day</th>\n",
       "      <th>year</th>\n",
       "      <th>week_of_year</th>\n",
       "      <th>day_of_week</th>\n",
       "      <th>Predicted_sales_value</th>\n",
       "    </tr>\n",
       "  </thead>\n",
       "  <tbody>\n",
       "    <tr>\n",
       "      <th>0</th>\n",
       "      <td>8091</td>\n",
       "      <td>216418</td>\n",
       "      <td>4.694096</td>\n",
       "      <td>4.694096</td>\n",
       "      <td>0</td>\n",
       "      <td>0</td>\n",
       "      <td>7</td>\n",
       "      <td>16</td>\n",
       "      <td>2013</td>\n",
       "      <td>29</td>\n",
       "      <td>1</td>\n",
       "      <td>18.62</td>\n",
       "    </tr>\n",
       "    <tr>\n",
       "      <th>1</th>\n",
       "      <td>8091</td>\n",
       "      <td>216419</td>\n",
       "      <td>4.700594</td>\n",
       "      <td>4.700594</td>\n",
       "      <td>0</td>\n",
       "      <td>0</td>\n",
       "      <td>7</td>\n",
       "      <td>16</td>\n",
       "      <td>2013</td>\n",
       "      <td>29</td>\n",
       "      <td>1</td>\n",
       "      <td>24.49</td>\n",
       "    </tr>\n",
       "    <tr>\n",
       "      <th>2</th>\n",
       "      <td>8091</td>\n",
       "      <td>216425</td>\n",
       "      <td>4.904904</td>\n",
       "      <td>4.904904</td>\n",
       "      <td>0</td>\n",
       "      <td>0</td>\n",
       "      <td>7</td>\n",
       "      <td>16</td>\n",
       "      <td>2013</td>\n",
       "      <td>29</td>\n",
       "      <td>1</td>\n",
       "      <td>39.58</td>\n",
       "    </tr>\n",
       "    <tr>\n",
       "      <th>3</th>\n",
       "      <td>8091</td>\n",
       "      <td>216233</td>\n",
       "      <td>4.904904</td>\n",
       "      <td>4.904904</td>\n",
       "      <td>0</td>\n",
       "      <td>0</td>\n",
       "      <td>7</td>\n",
       "      <td>16</td>\n",
       "      <td>2013</td>\n",
       "      <td>29</td>\n",
       "      <td>1</td>\n",
       "      <td>26.67</td>\n",
       "    </tr>\n",
       "    <tr>\n",
       "      <th>4</th>\n",
       "      <td>8091</td>\n",
       "      <td>217390</td>\n",
       "      <td>5.180097</td>\n",
       "      <td>5.180097</td>\n",
       "      <td>0</td>\n",
       "      <td>0</td>\n",
       "      <td>7</td>\n",
       "      <td>16</td>\n",
       "      <td>2013</td>\n",
       "      <td>29</td>\n",
       "      <td>1</td>\n",
       "      <td>39.70</td>\n",
       "    </tr>\n",
       "  </tbody>\n",
       "</table>\n",
       "</div>"
      ],
      "text/plain": [
       "   store_id  sku_id  total_price  base_price  is_featured_sku  is_display_sku  \\\n",
       "0      8091  216418     4.694096    4.694096                0               0   \n",
       "1      8091  216419     4.700594    4.700594                0               0   \n",
       "2      8091  216425     4.904904    4.904904                0               0   \n",
       "3      8091  216233     4.904904    4.904904                0               0   \n",
       "4      8091  217390     5.180097    5.180097                0               0   \n",
       "\n",
       "   month  day  year  week_of_year  day_of_week  Predicted_sales_value  \n",
       "0      7   16  2013            29            1                  18.62  \n",
       "1      7   16  2013            29            1                  24.49  \n",
       "2      7   16  2013            29            1                  39.58  \n",
       "3      7   16  2013            29            1                  26.67  \n",
       "4      7   16  2013            29            1                  39.70  "
      ]
     },
     "execution_count": 79,
     "metadata": {},
     "output_type": "execute_result"
    }
   ],
   "source": [
    "test_df.head()"
   ]
  },
  {
   "cell_type": "code",
   "execution_count": null,
   "id": "f14a8e5e",
   "metadata": {},
   "outputs": [],
   "source": []
  }
 ],
 "metadata": {
  "kernelspec": {
   "display_name": "Python 3",
   "language": "python",
   "name": "python3"
  },
  "language_info": {
   "codemirror_mode": {
    "name": "ipython",
    "version": 3
   },
   "file_extension": ".py",
   "mimetype": "text/x-python",
   "name": "python",
   "nbconvert_exporter": "python",
   "pygments_lexer": "ipython3",
   "version": "3.8.8"
  }
 },
 "nbformat": 4,
 "nbformat_minor": 5
}
